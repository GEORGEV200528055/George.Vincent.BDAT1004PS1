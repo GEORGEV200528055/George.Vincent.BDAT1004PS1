{
 "cells": [
  {
   "cell_type": "markdown",
   "id": "bf8ce0df",
   "metadata": {},
   "source": [
    "# Question 1 \n",
    "\n",
    "What data type is each of the following?\n",
    "1. 5\n",
    "2. 5.0\n",
    "3. 5 > 1\n",
    "4. \"5\"\n",
    "5. 5 * 2\n",
    "6. \"5\" * 2\n",
    "7. \"5\" + \"2\"\n",
    "8. 5 / 2\n",
    "9. 5 % 2\n",
    "0. {5, 2, 1}\n",
    "11. 5 == 3\n",
    "12. Pi "
   ]
  },
  {
   "cell_type": "markdown",
   "id": "2fa841d6",
   "metadata": {},
   "source": [
    "naswers:1.integer or int32\n",
    "        2.float (double)\n",
    "        3.boolean\n",
    "        4.String\n",
    "        5.integer or int32\n",
    "        6.invalid type. cannot be applied the operands of string and integer\n",
    "        7.String\n",
    "        8.integer or int32\n",
    "        9.integer or int32\n",
    "        10.integer array or int32[]\n",
    "        11.boolean\n",
    "        12.float (double)"
   ]
  },
  {
   "cell_type": "markdown",
   "id": "19b5d34d",
   "metadata": {},
   "source": [
    "# Q.No.2.\n",
    "Write (and evaluate) C# expressions that answer these questions\n",
    "a. How many letters are there in 'Supercalifragilisticexpialidocious'?"
   ]
  },
  {
   "cell_type": "code",
   "execution_count": null,
   "id": "2febb8e4",
   "metadata": {},
   "outputs": [],
   "source": [
    "string str = \"Supercalifragilisticexpialidocious\";\n",
    "        string v=\"ice\";\n",
    "        int l = str.Length;\n",
    "        Console.Write(\"Number of words in the string = {0}\\n\", l);\n"
   ]
  },
  {
   "cell_type": "markdown",
   "id": "88311306",
   "metadata": {},
   "source": [
    " b.Does 'Supercalifragilisticexpialidocious' contain 'ice' as a substring?"
   ]
  },
  {
   "cell_type": "code",
   "execution_count": null,
   "id": "edd31a9e",
   "metadata": {},
   "outputs": [],
   "source": [
    "Boolean i=str.Contains(v);\n",
    "         Console.Write(\"does the string contain specified word: {0}\\n\", i); //{ice}"
   ]
  },
  {
   "cell_type": "markdown",
   "id": "c10d8229",
   "metadata": {},
   "source": [
    "c. Which of the following words is the longest: Supercalifragilisticexpialidocious, Honorificabilitudinitatibus, or Bababadalgharaghtakamminarronnkonn?"
   ]
  },
  {
   "cell_type": "code",
   "execution_count": null,
   "id": "da57739b",
   "metadata": {},
   "outputs": [],
   "source": [
    "# string X = \"Supercalifragilisticexpialidocious\";\n",
    "string Y = \"Honorificabilitudinitatibus\";\n",
    "string Z = \"Bababadalgharaghtakamminarronnkonn\";\n",
    "int l = X.Length;\n",
    "int r = Y.Length;\n",
    "int s = Z.Length;\n",
    "\n",
    "if(l>r && l>s )\n",
    "{\n",
    "  Console.Write($\"string {X} is longer\" );\n",
    "}   \n",
    "else if(r>1 && r>s)\n",
    "        \n",
    "    {\n",
    "        Console.Write($\"string {Y} is longer\" );\n",
    "    }\n",
    "\n",
    "\n",
    "else{\n",
    "    Console.Write($\"string {Z} is longer\" );\n",
    "}"
   ]
  },
  {
   "cell_type": "markdown",
   "id": "70433b56",
   "metadata": {},
   "source": [
    "d. Which composer comes first in the dictionary: 'Berlioz', 'Borodin', 'Brian', \n",
    "'Bartok', 'Bellini', 'Buxtehude', 'Bernstein'. Which one comes last?\n"
   ]
  },
  {
   "cell_type": "code",
   "execution_count": null,
   "id": "a1e153a8",
   "metadata": {},
   "outputs": [],
   "source": [
    "List<string> Composers = new List<string>();\n",
    "Composers.Add(\"Berlioz\");\n",
    "Composers.Add(\"Borodin\");\n",
    "Composers.Add(\"Brain\");\n",
    "Composers.Add(\"Bartok\");\n",
    "Composers.Add(\"Bellini\");\n",
    "Composers.Add(\"Buxtehude\");\n",
    "Composers.Add(\"Bernstein\");\n",
    "Composers.Sort();\n",
    "int len = Composers.Count;\n",
    "int lastobjectpositon = len - 1;\n",
    "Console.WriteLine(\"First composer in the dictionary: {0}\",Composers[0]);\n",
    "Console.WriteLine();\n",
    "Console.WriteLine(\"Last composer in the dictionary: {0}\", Composers[lastobjectpositon]); "
   ]
  },
  {
   "cell_type": "markdown",
   "id": "3acb6f87",
   "metadata": {},
   "source": [
    "# Q.No.3 \n",
    "Implement function triangleArea(a,b,c) that takes as input the lengths of the 3 sides of a triangle and returns the area of the triangle. By Heron's formula, the area of a triangle with side lengths a, b, and c is s(s − a)(s −b)(s −c), where s = (a + b + c)/2."
   ]
  },
  {
   "cell_type": "code",
   "execution_count": null,
   "id": "8d290b7d",
   "metadata": {},
   "outputs": [],
   "source": [
    "        string X = \"20\";\n",
    "        \n",
    "        string Y = \"22\";\n",
    "        \n",
    "        string Z = \"24\";\n",
    "\n",
    "        double x1=Convert.ToDouble(X);\n",
    "        double y1 = Convert.ToDouble(Y);\n",
    "        double z1 = Convert.ToDouble(Z);\n",
    "\n",
    "        double s = Convert.ToDouble((x1 + y1 + z1) / 2);\n",
    "        double v = s - x1;\n",
    "        double x = s - y1;\n",
    "        double z = s - z1;\n",
    "\n",
    "        double area = Math.Sqrt(s*v*x*z);\n",
    "        Console.Write($\"Area of tirangle:{area}\");"
   ]
  },
  {
   "cell_type": "markdown",
   "id": "13ddab32",
   "metadata": {},
   "source": [
    "# Q.No.4 \n",
    "Write a program in C# Sharp to separate odd and even integers in separate arrays.\n",
    "element - 0 : 25\n",
    "element - 1 : 47\n",
    "element - 2 : 42\n",
    "element - 3 : 56\n",
    "element - 4 : 32\n",
    "\n"
   ]
  },
  {
   "cell_type": "code",
   "execution_count": null,
   "id": "eeee5f96",
   "metadata": {},
   "outputs": [],
   "source": [
    "int[] arr1 = new int[] {\n",
    "            25,\n",
    "            47,\n",
    "            42,\n",
    "            56,\n",
    "            32\n",
    "         };\n",
    "            int[] arr2 = new int[5];\n",
    "            int[] arr3 = new int[5];\n",
    "            int i, j = 0, k = 0;\n",
    "            for (i = 0; i < 5; i++)\n",
    "            {\n",
    "                if (arr1[i] % 2 == 0)\n",
    "                {\n",
    "                    arr2[j] = arr1[i];\n",
    "                    j++;\n",
    "                }\n",
    "                else\n",
    "                {\n",
    "                    arr3[k] = arr1[i];\n",
    "                    k++;\n",
    "                }\n",
    "            }\n",
    "            Console.WriteLine(\"Even numbers...\");\n",
    "            for (i = 0; i < j; i++)\n",
    "            {\n",
    "                Console.WriteLine(arr2[i]);\n",
    "            }\n",
    "            Console.WriteLine(\"Odd numbers...\");\n",
    "            for (i = 0; i < k; i++)\n",
    "            {\n",
    "                 Console.WriteLine(arr3[i]);\n",
    "            }"
   ]
  },
  {
   "cell_type": "markdown",
   "id": "9928f23b",
   "metadata": {},
   "source": [
    "# Q.No.5\n",
    "a. Write a function inside(x,y,x1,y1,x2,y2) that returns True or False\n",
    "depending on whether the point(x,y)lies in the rectangle with lower left\n",
    "corner (x1,y1) and upper right corner (x2,y2).\n",
    ">>> inside(1,1,0,0,2,3)\n",
    "True\n",
    ">>> inside(-1,-1,0,0,2,3)\n",
    "False"
   ]
  },
  {
   "cell_type": "code",
   "execution_count": null,
   "id": "5a4b62b7",
   "metadata": {},
   "outputs": [],
   "source": [
    "didn't got the answer"
   ]
  },
  {
   "cell_type": "markdown",
   "id": "e6acd5e1",
   "metadata": {},
   "source": [
    "b. Use function inside()from part a. to write an expression that tests whether the point (1,1) lies in both of the following rectangles: one with lower left corner (0.3, 0.5) and upper right corner (1.1, 0.7) and the other with lower left corner (0.5, 0.2) and upper right corner (1.1, 2)."
   ]
  },
  {
   "cell_type": "code",
   "execution_count": null,
   "id": "ecb9ff96",
   "metadata": {},
   "outputs": [],
   "source": [
    "didn't got the answer"
   ]
  },
  {
   "cell_type": "markdown",
   "id": "d45ca281",
   "metadata": {},
   "source": [
    "# Q.No.6\n",
    "You can turn a word into pig-Latin using the following two rules(simplified):\n",
    "• If the word starts with a consonant, move that letter to the end and append\n",
    "'ay'. For example, 'happy' becomes 'appyhay' and 'pencil' becomes 'encilpay'.\n",
    "• If the word starts with a vowel, simply append 'way' to the end of the word.\n",
    "For example, 'enter' becomes 'enterway' and 'other' becomes 'otherway' . For\n",
    "our purposes, there are 5 vowels: a, e, i, o, u (so we count y as a consonant).\n",
    "Write a function pig() that takes a word (i.e., a string) as input and returns its pigLatin form. Your function should still work if the input word contains upper case\n",
    "characters. Your output should always be lower case however.\n",
    ">>> pig('happy')\n",
    "'appyhay'\n",
    ">>> pig('Enter')\n",
    "'enterway'"
   ]
  },
  {
   "cell_type": "code",
   "execution_count": 2,
   "id": "05eb4585",
   "metadata": {},
   "outputs": [
    {
     "name": "stdout",
     "output_type": "stream",
     "text": [
      "Enter a word : George\n",
      "eorgegay\n"
     ]
    }
   ],
   "source": [
    "vowels = ['a','e','i','o','u']\n",
    "def pig():\n",
    "    string = input(\"Enter a word : \")\n",
    "    string = string.lower()\n",
    "    if string[0] in vowels:\n",
    "        string +=  'way'\n",
    "        print (string)\n",
    "    else:\n",
    "        result = string[1:]\n",
    "        result = result + string[0] + 'ay'\n",
    "        print(result)\n",
    "pig()"
   ]
  },
  {
   "cell_type": "markdown",
   "id": "eb064e14",
   "metadata": {},
   "source": [
    "# Q.No.7\n",
    "File bloodtype1.txt records blood-types of patients (A, B, AB, O or OO) at a clinic.\n",
    "Write a function bldcount() that reads the file with name name and reports (i.e.,\n",
    "prints) how many patients there are in each bloodtype.\n",
    ">>> bldcount('bloodtype.txt')\n",
    "There are 10 patients of blood type A.\n",
    "There is one patient of blood type B.\n",
    "There are 10 patients of blood type AB.\n",
    "There are 12 patients of blood type O.\n",
    "There are no patients of blood type OO."
   ]
  },
  {
   "cell_type": "code",
   "execution_count": null,
   "id": "cbab3812",
   "metadata": {},
   "outputs": [],
   "source": [
    "def bldcount(blood grp):\n",
    "    file = open(blood grp, 'r')\n",
    "    list = file.readlines() \n",
    "    for i in list:\n",
    "        data = i.split() #data are in list now\n",
    "\n",
    "        A = data.count('A')\n",
    "        B = data.count('B')\n",
    "        AB = data.count('AB')\n",
    "        O = data.count('O')\n",
    "        OO = data.count('OO')\n",
    "        print(\"There are\" ,A, \"patients of blood type A.\")\n",
    "        print(\"There are\" ,B, \"patients of blood type B.\")\n",
    "        print(\"There are\" ,AB, \"patients of blood type AB.\")\n",
    "        print(\"There are\" ,O, \"patients of blood type O.\")\n",
    "        print(\"There are\" ,OO, \"patients of blood type OO.\")"
   ]
  },
  {
   "cell_type": "code",
   "execution_count": 9,
   "id": "84adbcf2",
   "metadata": {},
   "outputs": [
    {
     "name": "stdout",
     "output_type": "stream",
     "text": [
      "blood grp.txt\n",
      "There are 15 patients of blood type A\n",
      "There are 1 patients of blood type B\n",
      "There are 13 patients of blood type AB\n",
      "There are 15 patients of blood type O\n",
      "There are 0 patients of blood type OO\n"
     ]
    }
   ],
   "source": [
    "bldcount('blood grp.txt')"
   ]
  },
  {
   "cell_type": "markdown",
   "id": "65ce4d86",
   "metadata": {},
   "source": [
    "# Question 8 Python\n",
    "Write a function curconv() that takes as input:\n",
    "1. a currency represented using a string (e.g., 'JPY' for the Japanese Yen or \n",
    "'EUR' for the Euro)\n",
    "2. an amount\n",
    "and then converts and returns the amount in US dollars\n",
    "\n",
    ">>> curconv('EUR', 100)\n",
    "122.96544\n",
    ">>> curconv('JPY', 100)\n",
    "1.241401"
   ]
  },
  {
   "cell_type": "code",
   "execution_count": null,
   "id": "34f5e184",
   "metadata": {},
   "outputs": [],
   "source": []
  },
  {
   "cell_type": "markdown",
   "id": "800e513a",
   "metadata": {},
   "source": [
    "# Question 9 Python\n",
    "Each of the following will cause an exception (an error). Identify what type of exception each will cause.\n",
    "\n",
    ".Trying to add incompatible variables, as in \n",
    "adding 6 + ‘a’\n",
    ".Referring to the 12th item of a list that has only 10 \n",
    "items\n",
    ".Using a value that is out ofrange for a function’s \n",
    "input, such as calling math.sqrt(-1.0)\n",
    ".Using an undeclared variable, such as print(x)\n",
    "when x has not been defined\n",
    ".Trying to open a file that does not exist, such as \n",
    "mistyping the file name or looking in the wrong \n",
    "directory."
   ]
  },
  {
   "cell_type": "code",
   "execution_count": 10,
   "id": "b22cb087",
   "metadata": {},
   "outputs": [
    {
     "ename": "TypeError",
     "evalue": "unsupported operand type(s) for +: 'int' and 'str'",
     "output_type": "error",
     "traceback": [
      "\u001b[1;31m---------------------------------------------------------------------------\u001b[0m",
      "\u001b[1;31mTypeError\u001b[0m                                 Traceback (most recent call last)",
      "Input \u001b[1;32mIn [10]\u001b[0m, in \u001b[0;36m<cell line: 1>\u001b[1;34m()\u001b[0m\n\u001b[1;32m----> 1\u001b[0m \u001b[38;5;241;43m6\u001b[39;49m\u001b[43m \u001b[49m\u001b[38;5;241;43m+\u001b[39;49m\u001b[43m \u001b[49m\u001b[38;5;124;43m'\u001b[39;49m\u001b[38;5;124;43ma\u001b[39;49m\u001b[38;5;124;43m'\u001b[39;49m\n",
      "\u001b[1;31mTypeError\u001b[0m: unsupported operand type(s) for +: 'int' and 'str'"
     ]
    }
   ],
   "source": [
    "6 + 'a' //ans:unsupported operand type(s) for +: 'int' and 'str'"
   ]
  },
  {
   "cell_type": "code",
   "execution_count": 11,
   "id": "9c9870a6",
   "metadata": {},
   "outputs": [
    {
     "ename": "IndexError",
     "evalue": "list index out of range",
     "output_type": "error",
     "traceback": [
      "\u001b[1;31m---------------------------------------------------------------------------\u001b[0m",
      "\u001b[1;31mIndexError\u001b[0m                                Traceback (most recent call last)",
      "Input \u001b[1;32mIn [11]\u001b[0m, in \u001b[0;36m<cell line: 2>\u001b[1;34m()\u001b[0m\n\u001b[0;32m      1\u001b[0m \u001b[38;5;28mlist\u001b[39m \u001b[38;5;241m=\u001b[39m [\u001b[38;5;241m21\u001b[39m,\u001b[38;5;241m23\u001b[39m,\u001b[38;5;241m25\u001b[39m,\u001b[38;5;241m27\u001b[39m,\u001b[38;5;241m29\u001b[39m,\u001b[38;5;241m31\u001b[39m,\u001b[38;5;241m33\u001b[39m,\u001b[38;5;241m35\u001b[39m,\u001b[38;5;241m36\u001b[39m,\u001b[38;5;241m37\u001b[39m]\n\u001b[1;32m----> 2\u001b[0m \u001b[38;5;28mprint\u001b[39m (\u001b[38;5;28;43mlist\u001b[39;49m\u001b[43m[\u001b[49m\u001b[38;5;241;43m12\u001b[39;49m\u001b[43m]\u001b[49m)\n",
      "\u001b[1;31mIndexError\u001b[0m: list index out of range"
     ]
    }
   ],
   "source": [
    "list = [21,23,25,27,29,31,33,35,36,37]\n",
    "print (list[12]) // ans:list index out of range"
   ]
  },
  {
   "cell_type": "code",
   "execution_count": 12,
   "id": "0ac9f9e3",
   "metadata": {},
   "outputs": [
    {
     "ename": "ValueError",
     "evalue": "math domain error",
     "output_type": "error",
     "traceback": [
      "\u001b[1;31m---------------------------------------------------------------------------\u001b[0m",
      "\u001b[1;31mValueError\u001b[0m                                Traceback (most recent call last)",
      "Input \u001b[1;32mIn [12]\u001b[0m, in \u001b[0;36m<cell line: 2>\u001b[1;34m()\u001b[0m\n\u001b[0;32m      1\u001b[0m \u001b[38;5;28;01mimport\u001b[39;00m \u001b[38;5;21;01mmath\u001b[39;00m\n\u001b[1;32m----> 2\u001b[0m \u001b[43mmath\u001b[49m\u001b[38;5;241;43m.\u001b[39;49m\u001b[43msqrt\u001b[49m\u001b[43m(\u001b[49m\u001b[38;5;241;43m-\u001b[39;49m\u001b[38;5;241;43m1.0\u001b[39;49m\u001b[43m)\u001b[49m\n",
      "\u001b[1;31mValueError\u001b[0m: math domain error"
     ]
    }
   ],
   "source": [
    "import math\n",
    "math.sqrt(-1.0) //ans:math domain error\n"
   ]
  },
  {
   "cell_type": "code",
   "execution_count": 13,
   "id": "eee78613",
   "metadata": {},
   "outputs": [
    {
     "ename": "NameError",
     "evalue": "name 'g' is not defined",
     "output_type": "error",
     "traceback": [
      "\u001b[1;31m---------------------------------------------------------------------------\u001b[0m",
      "\u001b[1;31mNameError\u001b[0m                                 Traceback (most recent call last)",
      "Input \u001b[1;32mIn [13]\u001b[0m, in \u001b[0;36m<cell line: 1>\u001b[1;34m()\u001b[0m\n\u001b[1;32m----> 1\u001b[0m \u001b[38;5;28mprint\u001b[39m(\u001b[43mg\u001b[49m)\n",
      "\u001b[1;31mNameError\u001b[0m: name 'g' is not defined"
     ]
    }
   ],
   "source": [
    "print(g) // ans:name 'g' is not defined\n"
   ]
  },
  {
   "cell_type": "code",
   "execution_count": 14,
   "id": "9e7707f1",
   "metadata": {},
   "outputs": [
    {
     "ename": "FileNotFoundError",
     "evalue": "[Errno 2] No such file or directory: 'i am george.txt'",
     "output_type": "error",
     "traceback": [
      "\u001b[1;31m---------------------------------------------------------------------------\u001b[0m",
      "\u001b[1;31mFileNotFoundError\u001b[0m                         Traceback (most recent call last)",
      "Input \u001b[1;32mIn [14]\u001b[0m, in \u001b[0;36m<cell line: 1>\u001b[1;34m()\u001b[0m\n\u001b[1;32m----> 1\u001b[0m \u001b[38;5;28;43mopen\u001b[39;49m\u001b[43m(\u001b[49m\u001b[38;5;124;43m\"\u001b[39;49m\u001b[38;5;124;43mi am george.txt\u001b[39;49m\u001b[38;5;124;43m\"\u001b[39;49m\u001b[43m)\u001b[49m\n",
      "\u001b[1;31mFileNotFoundError\u001b[0m: [Errno 2] No such file or directory: 'i am george.txt'"
     ]
    }
   ],
   "source": [
    "open(\"i am george.txt\") // ans:Errno 2] No such file or directory: 'i am george.txt'\n"
   ]
  },
  {
   "cell_type": "markdown",
   "id": "9ebbb9ab",
   "metadata": {},
   "source": [
    "# Question 10 Python\n",
    "Encryption is the process of hiding the meaning of a text by substituting letters in the message with other letters, according to some system. If the process is successful, no one but the intended recipient can understand the encrypted message. Cryptanalysis refers to attempts to undo the encryption, even if some details of the encryption are unknown (for example, if an encrypted message has been intercepted). The first step of cryptanalysis is often to build up a table of letter frequencies in the encrypted text. Assume that the string letters is already defined as 'abcdefghijklmnopqrstuvwxyz'.\n",
    "Write a function called frequencies() that takes a string as its only parameter, and returns a list of integers, showing the number of times each character appears in the text. Your function may ignore any characters that are not in letters. => frequencies('The quick red fox got bored and went home.') [1, 1, 1, 3, 5, 1, 1, 2, 1, 0, 1, 0, 1, 2, 4, 0, 1, 2, 0, 2, 1, 0, 1, 1, 0, 0] => frequencies('apple')"
   ]
  },
  {
   "cell_type": "code",
   "execution_count": 17,
   "id": "d3abbccd",
   "metadata": {},
   "outputs": [],
   "source": [
    "def frequencies(text):\n",
    "    \n",
    "    letters = ('a','b','c','d','e','f','g','h','i','j','k','l','m','n','o','p','q','r','s','t','u','v','w','x','y','z')\n",
    "    total_letters = []\n",
    "    letter_dict = {}\n",
    "   \n",
    "    \n",
    " \n",
    "    for word in text:\n",
    "          for char in word:\n",
    "            if char.isalpha():\n",
    "                char = char.lower() #to convert input letter into lowercase so that 'a' and 'A' will act as same.\n",
    "                total_letters.append(char)\n",
    "    \n",
    "    #checking every a to z letter in total_letters\n",
    "    for char in letters:\n",
    "        if char in total_letters:\n",
    "            letter_dict[char] = total_letters.count(char) \n",
    "           \n",
    "        else:\n",
    "            letter_dict[char] = 0\n",
    "            \n",
    "    #printing the  values\n",
    "    print(list(letter_dict.values()))\n",
    "    "
   ]
  },
  {
   "cell_type": "code",
   "execution_count": null,
   "id": "f139091d",
   "metadata": {},
   "outputs": [],
   "source": []
  }
 ],
 "metadata": {
  "kernelspec": {
   "display_name": "Python 3 (ipykernel)",
   "language": "python",
   "name": "python3"
  },
  "language_info": {
   "codemirror_mode": {
    "name": "ipython",
    "version": 3
   },
   "file_extension": ".py",
   "mimetype": "text/x-python",
   "name": "python",
   "nbconvert_exporter": "python",
   "pygments_lexer": "ipython3",
   "version": "3.9.12"
  }
 },
 "nbformat": 4,
 "nbformat_minor": 5
}
